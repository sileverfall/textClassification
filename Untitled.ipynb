{
 "cells": [
  {
   "cell_type": "code",
   "execution_count": 2,
   "metadata": {},
   "outputs": [],
   "source": [
    "A='''站在台中烏日高鐵站月台上，就可看到黑白外牆的國泰人壽物流園區，景觀最好的頂樓，就是蓋亞汽車新廠的所在地。\n",
    "\n",
    "佔地1,500坪的廠區，走的是工業風，還有溜滑梯可從樓上溜到樓下，幫助研發團隊激發創意，這都是蓋亞汽車創辦人韋逸斌一手設計。他說，等年底機器進駐，到時可有兩條生產線，一年最多出貨3萬輛車。\n",
    "\n",
    "蓋亞做的產品有點特別。雖然是電動車，卻不是一般人熟悉的四輪車或是雙輪摩托車，而是載貨用的三輪電動車。\n",
    "\n",
    "三輪電動車把摩托車最大化切入市區送貨市場\n",
    "\n",
    "為什麼會想到做三輪車？韋逸斌觀察到全球的兩大趨勢：\n",
    "\n",
    "首先，近幾年全球電子商務蓬勃發展，物流業者和電商業者紛紛因應需求擴展自有車隊。例如物流業者統一速達，過去6年的包裹件數就以每年兩成的速度增長。PCHome也在8月董事會通過，要投資建置自有物流車隊。\n",
    "\n",
    "但氣候變遷與都市居民對空氣品質的要求，讓愈來愈多國家製定燃油車退場時間表，其中又以歐洲大城市最為積極。2020年至2025之間，包括巴黎、倫敦、柏林、馬德里、哥本哈根等城市，都會開始限制燃油車進入市區。（延伸閱讀：超猛法國宣佈2040全面消滅汽柴油車）\n",
    "\n",
    "蓋亞的產品，就是希望切入「最後一哩路」的市區送貨，做到零碳物流。蓋亞的 Rapide 3 電動三輪車的設計概念，是「把摩托車最大化」。\n",
    "\n",
    "蓋亞的三輪車體積介於摩托車與小貨車之間，三輪設計兼顧了載貨與穩定的需求。載重量達200公斤，為一般機車的3倍；載貨體積達440至600公升，為機車的4到6倍。\n",
    "\n",
    "韋逸斌分析，蓋亞的三輪物流車價格約在一萬歐元左右，價格跟載貨量都是商用貨車的一半。但 Rapide 3 在城市狹窄道路的機動性，卻是貨車無可比擬的，因此在注重環保的歐洲，格外有競爭力。\n",
    "\n",
    "更特別的是，這款三輪電動車最高時速可達95公里，可以上歐洲快速道路，這也是絕大多數雙輪電動車無法做到的。\n",
    "\n",
    "因為這款特殊產品，蓋亞被邀請參加9月下旬在德國漢諾威舉行、兩年一度的國際商用車展（IAACV)，在 New Mobility World 展區，蓋亞是唯一來自台灣的企業，與包括 Volvo、賓士與米其林等世界大廠同台。\n",
    "\n",
    "10月初，蓋亞也受法國政府之邀，參加兩年一度的巴黎車展（Paris Motor Show），這是全球歷史最悠久的車展，已經有120年歷史。\n",
    "\n",
    "團隊橫跨三大洲 拿下德、法、西班牙訂單'''\n",
    "\n",
    "B='''為什麼蓋亞可以做到？\n",
    "\n",
    "最主要的原因就在於，蓋亞是新創公司，並非原本做燃油車的公司轉向切入電動車，因此沒有包袱。再來，就是他們找到獨特的定位，不做已經成為紅海的四輪或是雙輪車，而是選擇三輪車，切入的是都市最後一哩路的零碳、無污染物流需求。\n",
    "\n",
    "蓋亞汽車其實早就被法國政府相中，是2015年底全球25家獲選「French Tech Ticket」新創公司的其中之一，也是台灣唯一一家，讓他們免租金進駐巴黎育成中心6個月。\n",
    "\n",
    "如今蓋亞團隊橫跨三大洲，巴黎團隊負責電控與軟體開發，多倫多團隊負責能源系統和底盤開發，台灣則負責研發與生產製造，預計明年員工人數會從現在的40多人增加到100人以上。\n",
    "\n",
    "韋逸斌透露，他目前手上已有法國、德國與西班牙物流客戶的訂單，也正在跟台灣物流配送業者合作開發車款，預計今年底進入試量產階段。\n",
    "\n",
    "當台灣的電動雙輪車大戰白熱化，不過8歲的蓋亞選擇了一條特別的路，切入較少目光集中的商用物流車種開發，並將市場鎖定在歐洲，說不定真能騎出一片藍海。'''"
   ]
  },
  {
   "cell_type": "code",
   "execution_count": 9,
   "metadata": {},
   "outputs": [
    {
     "name": "stdout",
     "output_type": "stream",
     "text": [
      "站在台中烏日高鐵站月台上，就可看到黑白外牆的國泰人壽物流園區，景觀最好的頂樓，就是蓋亞汽車新廠的所在地。\n"
     ]
    },
    {
     "data": {
      "text/plain": [
       "27"
      ]
     },
     "execution_count": 9,
     "metadata": {},
     "output_type": "execute_result"
    }
   ],
   "source": [
    "a = A.split('\\n')\n",
    "# review[0] = review[0].replace('\\ufeff','')\n",
    "print(a[0])\n",
    "len(a)"
   ]
  },
  {
   "cell_type": "code",
   "execution_count": 10,
   "metadata": {},
   "outputs": [
    {
     "name": "stdout",
     "output_type": "stream",
     "text": [
      "為什麼蓋亞可以做到？\n"
     ]
    },
    {
     "data": {
      "text/plain": [
       "11"
      ]
     },
     "execution_count": 10,
     "metadata": {},
     "output_type": "execute_result"
    }
   ],
   "source": [
    "b = B.split('\\n')\n",
    "# review[0] = review[0].replace('\\ufeff','')\n",
    "print(b[0])\n",
    "len(b)"
   ]
  },
  {
   "cell_type": "code",
   "execution_count": 11,
   "metadata": {},
   "outputs": [],
   "source": [
    "L =  a+b"
   ]
  },
  {
   "cell_type": "code",
   "execution_count": 12,
   "metadata": {},
   "outputs": [
    {
     "data": {
      "text/plain": [
       "''"
      ]
     },
     "execution_count": 12,
     "metadata": {},
     "output_type": "execute_result"
    }
   ],
   "source": [
    "L[28]"
   ]
  },
  {
   "cell_type": "code",
   "execution_count": null,
   "metadata": {},
   "outputs": [],
   "source": []
  }
 ],
 "metadata": {
  "kernelspec": {
   "display_name": "Python 3",
   "language": "python",
   "name": "python3"
  },
  "language_info": {
   "codemirror_mode": {
    "name": "ipython",
    "version": 3
   },
   "file_extension": ".py",
   "mimetype": "text/x-python",
   "name": "python",
   "nbconvert_exporter": "python",
   "pygments_lexer": "ipython3",
   "version": "3.6.5"
  }
 },
 "nbformat": 4,
 "nbformat_minor": 2
}
